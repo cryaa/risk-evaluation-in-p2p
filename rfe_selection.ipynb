{
 "cells": [
  {
   "cell_type": "code",
   "execution_count": 2,
   "metadata": {},
   "outputs": [
    {
     "name": "stderr",
     "output_type": "stream",
     "text": [
      "/anaconda2/lib/python2.7/site-packages/sklearn/cross_validation.py:41: DeprecationWarning: This module was deprecated in version 0.18 in favor of the model_selection module into which all the refactored classes and functions are moved. Also note that the interface of the new CV iterators are different from that of this module. This module will be removed in 0.20.\n",
      "  \"This module will be removed in 0.20.\", DeprecationWarning)\n"
     ]
    }
   ],
   "source": [
    "import pandas as pd\n",
    "import numpy as np\n",
    "import os\n",
    "from sklearn import preprocessing\n",
    "from sklearn.decomposition import PCA\n",
    "from sklearn.decomposition import SparsePCA as SPCA\n",
    "import numpy.matlib\n",
    "import matplotlib.pyplot as plt\n",
    "from mpl_toolkits.mplot3d import Axes3D\n",
    "from sklearn.cross_validation import train_test_split"
   ]
  },
  {
   "cell_type": "code",
   "execution_count": 4,
   "metadata": {},
   "outputs": [
    {
     "data": {
      "text/plain": [
       "(63,)"
      ]
     },
     "execution_count": 4,
     "metadata": {},
     "output_type": "execute_result"
    }
   ],
   "source": [
    "file_path ='drop_data.csv'\n",
    "file_ = pd.read_csv(file_path, sep = ',')\n",
    "#file_ = file_.dropna(axis = 0, how = 'any')\n",
    "file_.columns.values.shape"
   ]
  },
  {
   "cell_type": "code",
   "execution_count": 5,
   "metadata": {
    "collapsed": true
   },
   "outputs": [],
   "source": [
    "feature=file_.iloc[:,1:]\n",
    "label=file_.iloc[:,0]"
   ]
  },
  {
   "cell_type": "code",
   "execution_count": 6,
   "metadata": {
    "collapsed": true
   },
   "outputs": [],
   "source": [
    "scale_data = preprocessing.scale(feature)"
   ]
  },
  {
   "cell_type": "code",
   "execution_count": 7,
   "metadata": {},
   "outputs": [
    {
     "data": {
      "text/plain": [
       "array([[-0.63784943,  3.74774174, -0.56001185, ..., -0.23294596,\n",
       "         0.95004968,  0.50629467],\n",
       "       [-0.47680303, -0.31446384,  1.15354486, ..., -0.23294596,\n",
       "        -0.49004427,  0.50629467],\n",
       "       [ 0.21941296,  1.68131542,  5.31647968, ..., -0.23294596,\n",
       "         2.67816242,  0.50629467],\n",
       "       ...,\n",
       "       [ 0.38045936, -0.31446384, -0.27777898, ...,  0.09049531,\n",
       "         0.08599331,  0.31838187],\n",
       "       [-0.12745622, -0.31446384, -0.56505172, ..., -0.11228734,\n",
       "         2.39014363,  0.50629467],\n",
       "       [ 0.36807117, -0.31446384, -0.56505172, ..., -0.23294596,\n",
       "         0.66203089,  0.50629467]])"
      ]
     },
     "execution_count": 7,
     "metadata": {},
     "output_type": "execute_result"
    }
   ],
   "source": [
    "scale_data"
   ]
  },
  {
   "cell_type": "code",
   "execution_count": 8,
   "metadata": {},
   "outputs": [
    {
     "name": "stdout",
     "output_type": "stream",
     "text": [
      "[7.42594771e-03 5.03795348e-03 6.55082243e-03 1.26110774e-02\n",
      " 6.45174210e-03 6.63391563e-03 6.20291622e-03 2.09185254e-02\n",
      " 8.77695606e-03 1.04336731e-02 1.73935850e-02 6.56695697e-03\n",
      " 7.48084883e-03 1.39986592e-02 6.78507272e-03 6.64935819e-03\n",
      " 7.12182241e-03 8.35537834e-03 6.01045250e-03 5.78412543e-03\n",
      " 3.88739100e-03 7.54982667e-03 7.49828536e-03 6.92969091e-03\n",
      " 3.36745649e-03 4.22672457e-03 2.11678984e-03 1.35745100e-03\n",
      " 2.38067922e-03 3.46672723e-03 6.75779323e-03 6.19267729e-03\n",
      " 6.15074160e-03 3.90476054e-03 7.39691984e-03 6.75553890e-03\n",
      " 8.06968941e-03 2.32341207e-02 8.27598968e-03 1.15011808e-02\n",
      " 2.48092238e-02 1.71390134e-02 1.65005670e-02 1.36025814e-02\n",
      " 1.62742973e-02 1.30603144e-02 4.43461519e-02 2.86679624e-02\n",
      " 3.40139534e-05 1.84108517e-05 1.66138572e-02 1.33358187e-01\n",
      " 5.57317595e-03 5.08702534e-03 2.62214922e-03 3.01338353e-03\n",
      " 3.05743500e-01 1.00994191e-02 2.41532325e-03 1.44800474e-02\n",
      " 9.62099641e-03 8.71017549e-03]\n"
     ]
    }
   ],
   "source": [
    "from sklearn.ensemble import ExtraTreesClassifier\n",
    "\n",
    "model = ExtraTreesClassifier()\n",
    "model.fit(scale_data, label.values.ravel())\n",
    "# display the relative importance of each attribute\n",
    "print(model.feature_importances_)"
   ]
  },
  {
   "cell_type": "code",
   "execution_count": 9,
   "metadata": {},
   "outputs": [
    {
     "name": "stdout",
     "output_type": "stream",
     "text": [
      "[False False False False False False False False False False False False\n",
      " False False False False False False False False False False False False\n",
      " False False False False False False False False False False False False\n",
      " False False False False False False False False False False False False\n",
      " False False False  True False False False False False False False False\n",
      " False False]\n",
      "[16 18 17 38 29 54 57 22 59 48 41 15  7 23 12 14 32 55 26 27 58 53 51 45\n",
      " 46 61 35 43 40 47 31 49 36 44 60 30 56  2  5  4 19 21 34 20 13 25  6  3\n",
      " 50 39  8  1 33 37 62 42  9 11 28 24 52 10]\n"
     ]
    }
   ],
   "source": [
    "from sklearn.feature_selection import RFE\n",
    "import sklearn.linear_model as linear_model\n",
    "\n",
    "model = linear_model.LogisticRegression()\n",
    "# create the RFE model and select 3 attributes\n",
    "rfe = RFE(model, 1)\n",
    "rfe = rfe.fit(scale_data, label.values.ravel())\n",
    "# summarize the selection of the attributes\n",
    "print(rfe.support_)\n",
    "print(rfe.ranking_)"
   ]
  },
  {
   "cell_type": "code",
   "execution_count": null,
   "metadata": {
    "collapsed": true
   },
   "outputs": [],
   "source": []
  }
 ],
 "metadata": {
  "kernelspec": {
   "display_name": "Python 2",
   "language": "python",
   "name": "python2"
  },
  "language_info": {
   "codemirror_mode": {
    "name": "ipython",
    "version": 2
   },
   "file_extension": ".py",
   "mimetype": "text/x-python",
   "name": "python",
   "nbconvert_exporter": "python",
   "pygments_lexer": "ipython2",
   "version": "2.7.14"
  }
 },
 "nbformat": 4,
 "nbformat_minor": 2
}
